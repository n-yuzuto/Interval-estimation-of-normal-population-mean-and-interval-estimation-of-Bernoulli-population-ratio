{
 "cells": [
  {
   "cell_type": "code",
   "execution_count": 7,
   "metadata": {},
   "outputs": [],
   "source": [
    "import numpy as np\n",
    "from scipy.stats import norm\n",
    "\n",
    "def confidence_interval1(X, std, alpha):\n",
    "    n = len(X)\n",
    "    muhat = np.mean(X)\n",
    "    Lz = norm.ppf(alpha / 2)\n",
    "    Uz = norm.ppf(1 - alpha / 2)\n",
    "    Lalpha = muhat - Uz * std / np.sqrt(n)\n",
    "    Ualpha = muhat - Lz * std / np.sqrt(n)\n",
    "    return Lalpha, Ualpha"
   ]
  },
  {
   "cell_type": "code",
   "execution_count": 8,
   "metadata": {},
   "outputs": [
    {
     "name": "stdout",
     "output_type": "stream",
     "text": [
      "111\n"
     ]
    }
   ],
   "source": [
    "n = 100\n",
    "alpha = 0.01\n",
    "std = 1.0\n",
    "count = 0\n",
    "for i in range(10000):\n",
    "    data = np.random.randn(n)\n",
    "    l, u = confidence_interval1(data, std, alpha)\n",
    "    if 0 < l or 0 > u:\n",
    "        count += 1\n",
    "print(count)"
   ]
  },
  {
   "cell_type": "code",
   "execution_count": 9,
   "metadata": {},
   "outputs": [
    {
     "name": "stdout",
     "output_type": "stream",
     "text": [
      "536\n"
     ]
    }
   ],
   "source": [
    "n = 100\n",
    "alpha = 0.05\n",
    "std = 1.0\n",
    "count = 0\n",
    "for i in range(10000):\n",
    "    data = np.random.randn(n)\n",
    "    l, u = confidence_interval1(data, std, alpha)\n",
    "    if 0 < l or 0 > u:\n",
    "        count += 1\n",
    "print(count)"
   ]
  },
  {
   "cell_type": "code",
   "execution_count": 10,
   "metadata": {},
   "outputs": [],
   "source": [
    "import numpy as np\n",
    "np.random.seed(20201022)\n",
    "mu,sigma = 20.0, 10.0\n",
    "data = mu + sigma * np.random.randn(30)"
   ]
  },
  {
   "cell_type": "code",
   "execution_count": 11,
   "metadata": {},
   "outputs": [],
   "source": [
    "from scipy.stats import chi2\n",
    "def confidence_interval2(X,alpha):\n",
    "    n = len(X)\n",
    "    df = n - 1\n",
    "    muhat = sum(X) / n\n",
    "    shat = sum((X - muhat)**2)\n",
    "    Uz = chi2.ppf(1 - alpha / 2,df)\n",
    "    Lz = chi2.ppf(alpha / 2,df)\n",
    "    Lalpha = shat / Uz\n",
    "    Ualpha = shat / Lz\n",
    "    return Lalpha, Ualpha"
   ]
  },
  {
   "cell_type": "code",
   "execution_count": 12,
   "metadata": {},
   "outputs": [
    {
     "data": {
      "text/plain": [
       "(47.688932799678625, 190.21427017821244)"
      ]
     },
     "execution_count": 12,
     "metadata": {},
     "output_type": "execute_result"
    }
   ],
   "source": [
    "confidence_interval2(data,0.01)"
   ]
  },
  {
   "cell_type": "code",
   "execution_count": 13,
   "metadata": {},
   "outputs": [
    {
     "data": {
      "text/plain": [
       "(54.586723207858086, 155.53178841619797)"
      ]
     },
     "execution_count": 13,
     "metadata": {},
     "output_type": "execute_result"
    }
   ],
   "source": [
    "confidence_interval2(data,0.05)"
   ]
  },
  {
   "cell_type": "code",
   "execution_count": 14,
   "metadata": {},
   "outputs": [],
   "source": [
    "import numpy as np\n",
    "from scipy.stats import t\n",
    "def confidence_interval3(X, alpha):\n",
    "    n = len(X)\n",
    "    muhat = sum(X) / n\n",
    "    shat = sum((X - muhat) ** 2) / (n-1)\n",
    "    df = n - 1\n",
    "    Uz = t.ppf(1 - alpha / 2, df)\n",
    "    Lz = t.ppf(alpha / 2, df)\n",
    "    Lalpha = muhat - Uz * np.sqrt(shat) / np.sqrt(n)\n",
    "    Ualpha = muhat - Lz * np.sqrt(shat) / np.sqrt(n)\n",
    "    return Lalpha, Ualpha"
   ]
  },
  {
   "cell_type": "code",
   "execution_count": 15,
   "metadata": {},
   "outputs": [
    {
     "name": "stdout",
     "output_type": "stream",
     "text": [
      "(-0.3205799544087024, 0.9190101102004209)\n",
      "(-0.5055356446751123, 1.1039658004668307)\n"
     ]
    }
   ],
   "source": [
    "data = np.random.randn(10)\n",
    "print(confidence_interval1(data,1, 0.05))\n",
    "print(confidence_interval3(data, 0.05))"
   ]
  },
  {
   "cell_type": "code",
   "execution_count": 16,
   "metadata": {},
   "outputs": [
    {
     "name": "stdout",
     "output_type": "stream",
     "text": [
      "(-0.13905481376239093, 0.25293798314561994)\n",
      "(-0.15676532087649955, 0.2706484902597286)\n"
     ]
    }
   ],
   "source": [
    "data = np.random.randn(100)\n",
    "print(confidence_interval1(data,1, 0.05))\n",
    "print(confidence_interval3(data, 0.05))"
   ]
  },
  {
   "cell_type": "code",
   "execution_count": 17,
   "metadata": {},
   "outputs": [
    {
     "name": "stdout",
     "output_type": "stream",
     "text": [
      "(-0.060689258226045574, 0.06326974823486677)\n",
      "(-0.06305712530204849, 0.06563761531086966)\n"
     ]
    }
   ],
   "source": [
    "data = np.random.randn(1000)\n",
    "print(confidence_interval1(data,1, 0.05))\n",
    "print(confidence_interval3(data, 0.05))"
   ]
  },
  {
   "cell_type": "code",
   "execution_count": 6,
   "metadata": {},
   "outputs": [],
   "source": [
    "import numpy as np\n",
    "from scipy.stats import norm\n",
    "def confidence_interval4(X, alpha):\n",
    "    n = len(X)\n",
    "    phat = sum(X) / n\n",
    "    Uz = norm.ppf(1 - alpha / 2)\n",
    "    Lz = norm.ppf(alpha / 2)\n",
    "    Lalpha = phat - Uz * np.sqrt(phat * (1 - phat)) / np.sqrt(n)\n",
    "    Ualpha = phat - Lz * np.sqrt(phat * (1 - phat)) / np.sqrt(n)\n",
    "    return Lalpha, Ualpha"
   ]
  },
  {
   "cell_type": "code",
   "execution_count": 7,
   "metadata": {},
   "outputs": [
    {
     "name": "stdout",
     "output_type": "stream",
     "text": [
      "1568\n"
     ]
    }
   ],
   "source": [
    "import random\n",
    "n = 10\n",
    "alpha = 0.05\n",
    "p = 0.3\n",
    "count = 0\n",
    "for i in range(10000):\n",
    "    dice = [0,1]\n",
    "    w = [1-p, p]\n",
    "    data = random.choices(dice, k = n, weights = w)\n",
    "    l, u = confidence_interval4(data, alpha)\n",
    "    if p < l or p > u:\n",
    "        count += 1\n",
    "print(count)"
   ]
  },
  {
   "cell_type": "code",
   "execution_count": 19,
   "metadata": {},
   "outputs": [
    {
     "name": "stdout",
     "output_type": "stream",
     "text": [
      "438\n"
     ]
    }
   ],
   "source": [
    "import random\n",
    "n = 30\n",
    "alpha = 0.05\n",
    "p = 0.3\n",
    "count = 0\n",
    "for i in range(10000):\n",
    "    dice = [0,1]\n",
    "    w = [1-p, p]\n",
    "    data = random.choices(dice, k = n, weights = w)\n",
    "    l, u = confidence_interval4(data, alpha)\n",
    "    if p < l or p > u:\n",
    "        count += 1\n",
    "print(count)"
   ]
  },
  {
   "cell_type": "code",
   "execution_count": 17,
   "metadata": {},
   "outputs": [
    {
     "name": "stdout",
     "output_type": "stream",
     "text": [
      "465\n"
     ]
    }
   ],
   "source": [
    "import random\n",
    "n = 100\n",
    "alpha = 0.05\n",
    "p = 0.3\n",
    "count = 0\n",
    "for i in range(10000):\n",
    "    dice = [0,1]\n",
    "    w = [1-p, p]\n",
    "    data = random.choices(dice, k = n, weights = w)\n",
    "    l, u = confidence_interval4(data, alpha)\n",
    "    if p < l or p > u:\n",
    "        count += 1\n",
    "print(count)"
   ]
  },
  {
   "cell_type": "code",
   "execution_count": 21,
   "metadata": {},
   "outputs": [
    {
     "name": "stdout",
     "output_type": "stream",
     "text": [
      "515\n"
     ]
    }
   ],
   "source": [
    "import random\n",
    "n = 300\n",
    "alpha = 0.05\n",
    "p = 0.3\n",
    "count = 0\n",
    "for i in range(10000):\n",
    "    dice = [0,1]\n",
    "    w = [1-p, p]\n",
    "    data = random.choices(dice, k = n, weights = w)\n",
    "    l, u = confidence_interval4(data, alpha)\n",
    "    if p < l or p > u:\n",
    "        count += 1\n",
    "print(count)"
   ]
  },
  {
   "cell_type": "code",
   "execution_count": null,
   "metadata": {},
   "outputs": [],
   "source": []
  }
 ],
 "metadata": {
  "kernelspec": {
   "display_name": "Python 3",
   "language": "python",
   "name": "python3"
  },
  "language_info": {
   "codemirror_mode": {
    "name": "ipython",
    "version": 3
   },
   "file_extension": ".py",
   "mimetype": "text/x-python",
   "name": "python",
   "nbconvert_exporter": "python",
   "pygments_lexer": "ipython3",
   "version": "3.7.3"
  }
 },
 "nbformat": 4,
 "nbformat_minor": 2
}
